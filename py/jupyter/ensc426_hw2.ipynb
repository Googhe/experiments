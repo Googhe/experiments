{
 "cells": [
  {
   "cell_type": "code",
   "execution_count": 1,
   "metadata": {},
   "outputs": [],
   "source": [
    "# %load ~/dotfiles/root/usr/local/share/pythonstartup.py\n",
    "import cmath\n",
    "import functools\n",
    "import itertools\n",
    "import math\n",
    "import os\n",
    "import sys\n",
    "\n",
    "from cmath import phase, polar\n",
    "from functools import namedtuple, partial\n",
    "from pprint import pprint\n",
    "from time import time, sleep\n",
    "from timeit import timeit\n",
    "\n",
    "import cv2\n",
    "import matplotlib.pyplot as plt\n",
    "import numpy as np\n",
    "\n",
    "from numpy import array, arange, concatenate, ones, ones_like, zeros, zeros_like\n",
    "from numpy import exp, log, log2, log10, sqrt, ceil, floor\n",
    "from numpy import pi, sin, cos, tan, arcsin, arccos, arctan, arctan2, degrees, radians\n",
    "from scipy import optimize, signal\n",
    "from scipy.constants import *\n",
    "\n",
    "j = 1.j\n",
    "\n",
    "np.set_printoptions(precision=3)\n",
    "\n",
    "def E(x, precision=3):\n",
    "    return ('{:.' + str(precision) + 'E}').format(x)\n",
    "\n",
    "def print(*args):\n",
    "    def reformat(x):\n",
    "        return (\n",
    "            \"{:.3f}\".format(x) if isinstance(x, float)   else\n",
    "            \"{:.3f}\".format(x) if isinstance(x, complex) else\n",
    "            x)\n",
    "    __builtins__.print(*map(reformat, args))\n",
    "\n",
    "def namestr(obj, namespace):\n",
    "    return next(name for name in namespace if namespace[name] is obj)\n",
    "\n",
    "def printn(*args, namespace=globals(), padding=20):\n",
    "    for x in args:\n",
    "        print(namestr(x, namespace).ljust(padding), x)\n"
   ]
  },
  {
   "cell_type": "code",
   "execution_count": 2,
   "metadata": {},
   "outputs": [],
   "source": [
    "#%matplotlib notebook\n",
    "%matplotlib inline\n",
    "import matplotlib.pyplot as plt\n",
    "\n",
    "# Constants\n",
    "eta_0 = 376.73\n",
    "c_0   = c"
   ]
  },
  {
   "cell_type": "code",
   "execution_count": 3,
   "metadata": {},
   "outputs": [
    {
     "name": "stdout",
     "output_type": "stream",
     "text": [
      "eta                  236.382\n",
      "H                    0.021\n",
      "c                    188106518.109\n",
      "k                    80.165\n",
      "dphi                 -229.657\n"
     ]
    }
   ],
   "source": [
    "# HW1 Q1\n",
    "\n",
    "w = 2 * pi * 2.4e9\n",
    "E0 = 5\n",
    "\n",
    "mu = mu_0\n",
    "eps = 2.54 * epsilon_0\n",
    "\n",
    "eta = sqrt(mu / eps)\n",
    "H = (1 / eta) * E0\n",
    "\n",
    "c = 1 / sqrt(eps * mu)\n",
    "vp = c\n",
    "\n",
    "k = w / vp\n",
    "\n",
    "dx = 0.15 - 0.1\n",
    "dphi = degrees(-k * dx)\n",
    "\n",
    "printn(*[eta, H, vp, k, dphi])"
   ]
  },
  {
   "cell_type": "code",
   "execution_count": 4,
   "metadata": {},
   "outputs": [
    {
     "name": "stdout",
     "output_type": "stream",
     "text": [
      "gamma                5.438+109.039j\n",
      "eta                  216.696+10.808j\n",
      "Si                   46.090\n",
      "Sr                   0.594\n",
      "Si_minus_Sr          45.496\n",
      "Sin                  45.650\n"
     ]
    }
   ],
   "source": [
    "# HW1 Q2\n",
    "\n",
    "# WRONG assumptions\n",
    "# eta = eta_0 * sqrt(1 / 3) / idk\n",
    "# R = (eta - eta_0) / (eta + eta_0) # no... this is only true when going from eta_0 -> eta, I believe\n",
    "# Sin = 100**2 / eta.conj() * (1 - abs(R)**2 + R - R.conj())\n",
    "\n",
    "def Ei_(z, gamma): return 100 * exp(-gamma * z)\n",
    "def Er_(z, gamma, R, l): return R * Ei_(l, gamma) * exp(-gamma * (l - z))\n",
    "\n",
    "loss_tan = 0.1\n",
    "w   = 2 * pi * 3e9\n",
    "eps = 3 * epsilon_0\n",
    "mu  = mu_0\n",
    "R   = -1\n",
    "l   = 0.2\n",
    "\n",
    "sigma = w * eps * loss_tan\n",
    "idk   = sqrt(1 - 1j * sigma / (w * eps))\n",
    "gamma = 1j * w * sqrt(mu * eps) * idk\n",
    "eta   = 1j * w * mu / gamma\n",
    "\n",
    "Ei = partial(Ei_, gamma=gamma)\n",
    "Er = partial(Er_, gamma=gamma, R=R, l=l)\n",
    "\n",
    "# Shouldn't this be real part?\n",
    "# But if I use real part, I get wrong answers.\n",
    "Si = abs(Ei(0.0)**2 / eta.conj())\n",
    "Sr = abs(Er(0.0)**2 / eta.conj())\n",
    "Si_minus_Sr = Si - Sr\n",
    "\n",
    "def Hi(*args): return  Ei(*args) / eta\n",
    "def Hr(*args): return -Er(*args) / eta\n",
    "\n",
    "Et  = Ei(0) - Er(0)\n",
    "Ht  = Hi(0) - Hr(0)\n",
    "Sin = abs(Et * Ht.conj())\n",
    "\n",
    "printn(*[gamma, eta, Si, Sr, Si_minus_Sr, Sin])"
   ]
  },
  {
   "cell_type": "code",
   "execution_count": 5,
   "metadata": {},
   "outputs": [
    {
     "name": "stdout",
     "output_type": "stream",
     "text": [
      "gamma                0.540+50.268j\n",
      "Z0                   49.993+0.457j\n",
      "alpha                0.540\n",
      "attenuation          -1.407\n",
      "gamma_lossless       0.000+50.265j\n",
      "Z0_lossless          50.000+0.000j\n"
     ]
    }
   ],
   "source": [
    "# HW1 Q3\n",
    "\n",
    "L = 0.5e-6\n",
    "C = 200e-12\n",
    "R = 4\n",
    "G = 0.02\n",
    "\n",
    "w = 2 * pi * 800e6\n",
    "\n",
    "RL = R + j*w*L\n",
    "GC = G + j*w*C\n",
    "gamma = sqrt(RL * GC)\n",
    "Z0    = sqrt(RL / GC)\n",
    "\n",
    "l = 0.30\n",
    "alpha = gamma.real\n",
    "attenuation  = 20 * log10(exp(-alpha * l))\n",
    "\n",
    "R = 0\n",
    "G = 0\n",
    "RL = R + j*w*L\n",
    "GC = G + j*w*C\n",
    "gamma_lossless = sqrt(RL * GC)\n",
    "Z0_lossless    = sqrt(RL / GC)\n",
    "\n",
    "printn(*[gamma, Z0, alpha, attenuation, gamma_lossless, Z0_lossless])"
   ]
  },
  {
   "cell_type": "code",
   "execution_count": 6,
   "metadata": {},
   "outputs": [
    {
     "name": "stdout",
     "output_type": "stream",
     "text": [
      "Z1                   54.772\n"
     ]
    },
    {
     "data": {
      "image/png": "[encoded data removed]",
      "text/plain": [
       "<Figure size 432x288 with 1 Axes>"
      ]
     },
     "metadata": {},
     "output_type": "display_data"
    }
   ],
   "source": [
    "# HW1 Q4\n",
    "\n",
    "Z0 = 75\n",
    "ZL = 40\n",
    "\n",
    "Z1 = sqrt(Z0 * ZL)\n",
    "\n",
    "def SWR(R):\n",
    "    return (1 + np.abs(R)) / (1 - np.abs(R))\n",
    "\n",
    "def R(Zin, Z0):\n",
    "    return (Zin - Z0) / (Zin + Z0)\n",
    "\n",
    "def Zin(Bl):\n",
    "    return Z1 * (ZL + j * Z1 * np.tan(Bl)) / (Z1 + j * ZL * np.tan(Bl))\n",
    "\n",
    "# TODO Plot?\n",
    "x = np.linspace(0, 2, 100)\n",
    "y = SWR(R(Zin(x), Z1))\n",
    "plt.plot(x, y)\n",
    "plt.title(\"This plot is wrong\")\n",
    "\n",
    "printn(Z1)"
   ]
  },
  {
   "cell_type": "code",
   "execution_count": 7,
   "metadata": {},
   "outputs": [
    {
     "name": "stdout",
     "output_type": "stream",
     "text": [
      "dist_                0.214\n",
      "ZL                   100.000-45.000j\n"
     ]
    }
   ],
   "source": [
    "# HW1 Q5\n",
    "\n",
    "Z0    = 50\n",
    "SWR   = 2.5\n",
    "dist  = 0.9e-2\n",
    "lmbda = 2 * 2.1e-2\n",
    "\n",
    "dist_ = dist / lmbda\n",
    "ZL = Z0 * (2 - 0.9j)\n",
    "\n",
    "printn(*[dist_, ZL])"
   ]
  },
  {
   "cell_type": "code",
   "execution_count": 8,
   "metadata": {},
   "outputs": [
    {
     "name": "stdout",
     "output_type": "stream",
     "text": [
      "dist_                0.100\n",
      "ZL                   42.000-64.000j\n"
     ]
    }
   ],
   "source": [
    "# HW1 Q6\n",
    "\n",
    "Z0 = 100\n",
    "SWR = 3.5\n",
    "dist_ = 0.1\n",
    "\n",
    "ZL = Z0 * (0.42 - 0.64j)\n",
    "\n",
    "printn(*[dist_, ZL])"
   ]
  }
 ],
 "metadata": {
  "kernelspec": {
   "display_name": "Python 3",
   "language": "python",
   "name": "python3"
  },
  "language_info": {
   "codemirror_mode": {
    "name": "ipython",
    "version": 3
   },
   "file_extension": ".py",
   "mimetype": "text/x-python",
   "name": "python",
   "nbconvert_exporter": "python",
   "pygments_lexer": "ipython3",
   "version": "3.6.5"
  }
 },
 "nbformat": 4,
 "nbformat_minor": 2
}
