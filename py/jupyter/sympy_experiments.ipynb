{
 "cells": [
  {
   "cell_type": "code",
   "execution_count": 84,
   "metadata": {
    "collapsed": false
   },
   "outputs": [],
   "source": [
    "# SymPy/IPython Initialization\n",
    "\n",
    "from sympy import *\n",
    "from IPython.display import display\n",
    "from IPython.display import Latex\n",
    "from sympy.abc import x, y, z, s, t\n",
    "\n",
    "init_printing(use_latex=True)\n",
    "\n",
    "# def eq(sym):\n",
    "#     return Eq(sym, sym.doit())"
   ]
  },
  {
   "cell_type": "code",
   "execution_count": 85,
   "metadata": {
    "collapsed": false
   },
   "outputs": [
    {
     "data": {
      "image/png": "[encoded data removed]",
      "text/latex": [
       "$$\\alpha_{n} = 2 \\alpha_{n-1} + 1$$"
      ],
      "text/plain": [
       "αₙ = 2⋅\\alpha_{n-1} + 1"
      ]
     },
     "metadata": {},
     "output_type": "display_data"
    }
   ],
   "source": [
    "# Symbols\n",
    "\n",
    "alpha_n, alpha_nm1 = symbols(r'alpha_n \\alpha_{n-1}')\n",
    "display(Eq(alpha_n, 2 * alpha_nm1 + 1))"
   ]
  },
  {
   "cell_type": "code",
   "execution_count": 86,
   "metadata": {
    "collapsed": false
   },
   "outputs": [
    {
     "name": "stdout",
     "output_type": "stream",
     "text": [
      "11/2\n",
      "25\n"
     ]
    }
   ],
   "source": [
    "# Calculation\n",
    "\n",
    "x, y = symbols('x y')\n",
    "\n",
    "print(Rational(3,2) + 4)\n",
    "print((x**2).subs(x, y + 1).subs(y, 4))"
   ]
  },
  {
   "cell_type": "code",
   "execution_count": 88,
   "metadata": {
    "collapsed": false
   },
   "outputs": [
    {
     "data": {
      "image/png": "[encoded data removed]",
      "text/latex": [
       "$$\\lim_{x \\to 0^+}\\left(\\frac{1}{x} \\sin{\\left (x \\right )}\\right) = 1$$"
      ],
      "text/plain": [
       "     sin(x)    \n",
       " lim ────── = 1\n",
       "x─→0⁺  x       "
      ]
     },
     "metadata": {},
     "output_type": "display_data"
    },
    {
     "data": {
      "image/png": "[encoded data removed]",
      "text/latex": [
       "$$\\lim_{x \\to \\infty} \\frac{1}{x} = 0$$"
      ],
      "text/plain": [
       "    1    \n",
       "lim ─ = 0\n",
       "x─→∞x    "
      ]
     },
     "metadata": {},
     "output_type": "display_data"
    }
   ],
   "source": [
    "# Limits\n",
    "\n",
    "x = Symbol('x')\n",
    "\n",
    "sin_x = Limit(sin(x)/x, x, 0)\n",
    "recip = Limit(1/x, x, oo)\n",
    "\n",
    "display(Eq(sin_x, sin_x.doit()))\n",
    "display(Eq(recip, recip.doit()))"
   ]
  },
  {
   "cell_type": "code",
   "execution_count": 89,
   "metadata": {
    "collapsed": false
   },
   "outputs": [
    {
     "data": {
      "image/png": "[encoded data removed]",
      "text/latex": [
       "$$\\frac{\\partial^{2}}{\\partial x^{2}} \\left(x^{3} y\\right) = 6 x y$$"
      ],
      "text/plain": [
       "  2              \n",
       " ∂ ⎛ 3  ⎞        \n",
       "───⎝x ⋅y⎠ = 6⋅x⋅y\n",
       "  2              \n",
       "∂x               "
      ]
     },
     "metadata": {},
     "output_type": "display_data"
    }
   ],
   "source": [
    "# Derivatives\n",
    "\n",
    "x, y = symbols('x y')\n",
    "\n",
    "deriv = Derivative(x**3 * y, x, 2)\n",
    "display(Eq(deriv, deriv.doit()))"
   ]
  },
  {
   "cell_type": "code",
   "execution_count": 100,
   "metadata": {
    "collapsed": false
   },
   "outputs": [
    {
     "data": {
      "image/png": "[encoded data removed]",
      "text/latex": [
       "$$\\int e^{u}\\, du = e^{u}$$"
      ],
      "text/plain": [
       "⌠           \n",
       "⎮  u       u\n",
       "⎮ ℯ  du = ℯ \n",
       "⌡           "
      ]
     },
     "metadata": {},
     "output_type": "display_data"
    },
    {
     "data": {
      "image/png": "[encoded data removed]",
      "text/latex": [
       "$$\\int_{-\\infty}^{\\infty} e^{- r^{2}}\\, dr = \\sqrt{\\pi}$$"
      ],
      "text/plain": [
       "∞              \n",
       "⌠              \n",
       "⎮     2        \n",
       "⎮   -r         \n",
       "⎮  ℯ    dr = √π\n",
       "⌡              \n",
       "-∞             "
      ]
     },
     "metadata": {},
     "output_type": "display_data"
    }
   ],
   "source": [
    "# Real integration\n",
    "\n",
    "# integrate() evaluates\n",
    "# Integral() creates unevaluated\n",
    "\n",
    "r, u = symbols('r u', real=True)\n",
    "\n",
    "indefinite = Integral(exp(u), u)\n",
    "display(Eq(indefinite, indefinite.doit()))\n",
    "\n",
    "definite = Integral(exp(-r**2), (r, -oo, oo))\n",
    "display(Eq(definite, definite.doit()))"
   ]
  },
  {
   "cell_type": "code",
   "execution_count": 91,
   "metadata": {
    "collapsed": false
   },
   "outputs": [
    {
     "data": {
      "image/png": "[encoded data removed]",
      "text/latex": [
       "$$\\left ( \\frac{1}{- a + s}, \\quad a, \\quad \\frac{s}{a} \\neq 1\\right )$$"
      ],
      "text/plain": [
       "⎛  1        s    ⎞\n",
       "⎜──────, a, ─ ≠ 1⎟\n",
       "⎝-a + s     a    ⎠"
      ]
     },
     "metadata": {},
     "output_type": "display_data"
    },
    {
     "data": {
      "image/png": "[encoded data removed]",
      "text/latex": [
       "$$e^{a x} \\theta\\left(x\\right)$$"
      ],
      "text/plain": [
       " a⋅x             \n",
       "ℯ   ⋅Heaviside(x)"
      ]
     },
     "metadata": {},
     "output_type": "display_data"
    },
    {
     "data": {
      "image/png": "[encoded data removed]",
      "text/latex": [
       "$$\\frac{2}{4 \\pi^{2} k^{2} + 1}$$"
      ],
      "text/plain": [
       "     2     \n",
       "───────────\n",
       "   2  2    \n",
       "4⋅π ⋅k  + 1"
      ]
     },
     "metadata": {},
     "output_type": "display_data"
    }
   ],
   "source": [
    "# Integral transforms\n",
    "\n",
    "a = Symbol('a', positive=True)\n",
    "k, s, x = symbols('k s x')\n",
    "\n",
    "lp = laplace_transform(exp(a*x), x, s)\n",
    "inv_lp = inverse_laplace_transform(lp[0], s, x)\n",
    "fourier = fourier_transform(exp(-abs(x)), x, k)\n",
    "\n",
    "display(lp)\n",
    "display(inv_lp)\n",
    "display(fourier)"
   ]
  },
  {
   "cell_type": "code",
   "execution_count": 92,
   "metadata": {
    "collapsed": false
   },
   "outputs": [
    {
     "data": {
      "image/png": "[encoded data removed]",
      "text/latex": [
       "$$e^{i x} = i \\sin{\\left (x \\right )} + \\cos{\\left (x \\right )}$$"
      ],
      "text/plain": [
       " ⅈ⋅x                    \n",
       "ℯ    = ⅈ⋅sin(x) + cos(x)"
      ]
     },
     "metadata": {},
     "output_type": "display_data"
    }
   ],
   "source": [
    "# Complex\n",
    "\n",
    "x = symbols('x', real=True)\n",
    "\n",
    "display(Eq(exp(I*x), exp(I*x).expand(complex=True)))\n",
    "\n",
    "# residues??\n",
    "#TODO"
   ]
  },
  {
   "cell_type": "code",
   "execution_count": 126,
   "metadata": {
    "collapsed": false
   },
   "outputs": [
    {
     "data": {
      "image/png": "[encoded data removed]",
      "text/latex": [
       "$$f{\\left (t \\right )} = C_{1} \\sin{\\left (t \\right )} + C_{2} \\cos{\\left (t \\right )}$$"
      ],
      "text/plain": [
       "f(t) = C₁⋅sin(t) + C₂⋅cos(t)"
      ]
     },
     "metadata": {},
     "output_type": "display_data"
    }
   ],
   "source": [
    "# ODEs\n",
    "\n",
    "f = Function('f')\n",
    "x, t = symbols('x, t')\n",
    "\n",
    "# f'' + f = 0\n",
    "display(dsolve(f(t).diff(t, t) + f(t), f(t)))"
   ]
  },
  {
   "cell_type": "code",
   "execution_count": 101,
   "metadata": {
    "collapsed": true
   },
   "outputs": [],
   "source": [
    "# PDEs\n",
    "\n",
    "u, X, T = map(Function, 'uXT')\n",
    "\n",
    "\n",
    "#TODO\n",
    "\n",
    "\n"
   ]
  },
  {
   "cell_type": "code",
   "execution_count": 94,
   "metadata": {
    "collapsed": false
   },
   "outputs": [
    {
     "data": {
      "image/png": "[encoded data removed]",
      "text/latex": [
       "$$\\frac{\\sqrt{5}}{5} \\left(\\frac{1}{2} + \\frac{\\sqrt{5}}{2}\\right)^{n} - \\frac{\\sqrt{5}}{5} \\left(- \\frac{\\sqrt{5}}{2} + \\frac{1}{2}\\right)^{n}$$"
      ],
      "text/plain": [
       "           n                n\n",
       "   ⎛1   √5⎞       ⎛  √5   1⎞ \n",
       "√5⋅⎜─ + ──⎟    √5⋅⎜- ── + ─⎟ \n",
       "   ⎝2   2 ⎠       ⎝  2    2⎠ \n",
       "──────────── - ──────────────\n",
       "     5               5       "
      ]
     },
     "execution_count": 94,
     "metadata": {},
     "output_type": "execute_result"
    }
   ],
   "source": [
    "# Recurrence relation\n",
    "\n",
    "y = Function('y')\n",
    "n = symbols('n', integer=True)\n",
    "\n",
    "fib = y(n) - y(n-1) - y(n-2)\n",
    "rsolve(fib, y(n), {y(0):0, y(1):1})"
   ]
  },
  {
   "cell_type": "code",
   "execution_count": 95,
   "metadata": {
    "collapsed": false
   },
   "outputs": [
    {
     "name": "stdout",
     "output_type": "stream",
     "text": [
      "e^{2 i \\pi x}\n"
     ]
    },
    {
     "data": {
      "text/latex": [
       "\\begin{eqnarray}\n",
       "\\nabla \\times \\vec{\\mathbf{B}} -\\, \\frac1c\\, \\frac{\\partial\\vec{\\mathbf{E}}}{\\partial t} & = \\frac{4\\pi}{c}\\vec{\\mathbf{j}} \\\\\n",
       "\\nabla \\cdot \\vec{\\mathbf{E}} & = 4 \\pi \\rho \\\\\n",
       "\\nabla \\times \\vec{\\mathbf{E}}\\, +\\, \\frac1c\\, \\frac{\\partial\\vec{\\mathbf{B}}}{\\partial t} & = \\vec{\\mathbf{0}} \\\\\n",
       "\\nabla \\cdot \\vec{\\mathbf{B}} & = 0 \n",
       "\\end{eqnarray}"
      ],
      "text/plain": [
       "<IPython.core.display.Latex object>"
      ]
     },
     "metadata": {},
     "output_type": "display_data"
    }
   ],
   "source": [
    "# Latex\n",
    "\n",
    "x = symbols('x')\n",
    "\n",
    "print(latex(exp(2*I*pi*x)))\n",
    "\n",
    "display(Latex(r\"\"\"\\begin{eqnarray}\n",
    "\\nabla \\times \\vec{\\mathbf{B}} -\\, \\frac1c\\, \\frac{\\partial\\vec{\\mathbf{E}}}{\\partial t} & = \\frac{4\\pi}{c}\\vec{\\mathbf{j}} \\\\\n",
    "\\nabla \\cdot \\vec{\\mathbf{E}} & = 4 \\pi \\rho \\\\\n",
    "\\nabla \\times \\vec{\\mathbf{E}}\\, +\\, \\frac1c\\, \\frac{\\partial\\vec{\\mathbf{B}}}{\\partial t} & = \\vec{\\mathbf{0}} \\\\\n",
    "\\nabla \\cdot \\vec{\\mathbf{B}} & = 0 \n",
    "\\end{eqnarray}\"\"\"))"
   ]
  }
 ],
 "metadata": {
  "anaconda-cloud": {},
  "kernelspec": {
   "display_name": "Python [Root]",
   "language": "python",
   "name": "Python [Root]"
  },
  "language_info": {
   "codemirror_mode": {
    "name": "ipython",
    "version": 3
   },
   "file_extension": ".py",
   "mimetype": "text/x-python",
   "name": "python",
   "nbconvert_exporter": "python",
   "pygments_lexer": "ipython3",
   "version": "3.5.2"
  }
 },
 "nbformat": 4,
 "nbformat_minor": 0
}
