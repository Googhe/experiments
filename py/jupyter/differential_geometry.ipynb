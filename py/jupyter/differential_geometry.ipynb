{
 "cells": [
  {
   "cell_type": "code",
   "execution_count": 31,
   "metadata": {
    "collapsed": true
   },
   "outputs": [],
   "source": [
    "# Init\n",
    "\n",
    "from sympy import init_printing\n",
    "init_printing()"
   ]
  },
  {
   "cell_type": "code",
   "execution_count": 32,
   "metadata": {
    "collapsed": false
   },
   "outputs": [
    {
     "data": {
      "text/plain": [
       "True"
      ]
     },
     "execution_count": 32,
     "metadata": {},
     "output_type": "execute_result"
    }
   ],
   "source": [
    "from sympy import symbols, sin, cos, pi\n",
    "from sympy.diffgeom import Manifold, Patch, CoordSystem\n",
    "from sympy.simplify import simplify\n",
    "\n",
    "r, theta = symbols('r, theta')\n",
    "m = Manifold('M', 2)\n",
    "patch = Patch('P', m)\n",
    "\n",
    "rect = CoordSystem('rect', patch)\n",
    "polar = CoordSystem('polar', patch)\n",
    "\n",
    "rect in patch.coord_systems\n"
   ]
  },
  {
   "cell_type": "code",
   "execution_count": 33,
   "metadata": {
    "collapsed": false
   },
   "outputs": [
    {
     "data": {
      "image/png": "[encoded data removed]",
      "text/latex": [
       "$$Point(CoordSystem(rectangular, Patch(origin, Manifold(R**2, 2)), (x, y)), Matrix([\n",
       "[x0],\n",
       "[y0]]))$$"
      ],
      "text/plain": [
       "Point(CoordSystem(rectangular, Patch(origin, Manifold(R**2, 2)), (x, y)), Matr\n",
       "                                      [x0],                                   \n",
       "                                     [y0]]))                                  \n",
       "\n",
       "ix([\n",
       "    \n",
       "    "
      ]
     },
     "execution_count": 33,
     "metadata": {},
     "output_type": "execute_result"
    }
   ],
   "source": [
    "from sympy import symbols, pi, Function\n",
    "from sympy.diffgeom.rn import R2, R2_p, R2_r\n",
    "from sympy.diffgeom import BaseVectorField\n",
    "\n",
    "x0, y0, r0, theta0 = symbols('x0, y0, r0, theta0')\n",
    "\n",
    "point_p = R2_p.point([r0, theta0])\n",
    "point_r = R2_r.point([x0, y0])\n",
    "\n",
    "point_r"
   ]
  },
  {
   "cell_type": "code",
   "execution_count": 34,
   "metadata": {
    "collapsed": false
   },
   "outputs": [
    {
     "data": {
      "image/png": "[encoded data removed]",
      "text/latex": [
       "$$g{\\left (r_{0} \\cos{\\left (\\theta_{0} \\right )},r_{0} \\sin{\\left (\\theta_{0} \\right )} \\right )}$$"
      ],
      "text/plain": [
       "g(r₀⋅cos(θ₀), r₀⋅sin(θ₀))"
      ]
     },
     "execution_count": 34,
     "metadata": {},
     "output_type": "execute_result"
    }
   ],
   "source": [
    "from sympy import symbols, pi, Function\n",
    "from sympy.diffgeom.rn import R2, R2_p, R2_r\n",
    "from sympy.diffgeom import BaseVectorField\n",
    "x0, y0, r0, theta0 = symbols('x0, y0, r0, theta0')\n",
    "\n",
    "point_p = R2_p.point([r0, theta0])\n",
    "point_r = R2_r.point([x0, y0])\n",
    "\n",
    "g = Function('g')\n",
    "s_field = g(R2.x, R2.y)\n",
    "s_field.rcall(point_r)\n",
    "s_field.rcall(point_p)"
   ]
  },
  {
   "cell_type": "code",
   "execution_count": 39,
   "metadata": {
    "collapsed": false
   },
   "outputs": [
    {
     "data": {
      "image/png": "[encoded data removed]",
      "text/latex": [
       "$$\\left. \\frac{d}{d \\xi_{2}} g{\\left (\\boldsymbol{\\mathrm{x}},\\xi_{2} \\right )} \\right|_{\\substack{ \\xi_{2}=\\boldsymbol{\\mathrm{y}} }}$$"
      ],
      "text/plain": [
       "⎛ d           ⎞│    \n",
       "⎜───(g(x, ξ₂))⎟│    \n",
       "⎝dξ₂          ⎠│ξ₂=y"
      ]
     },
     "execution_count": 39,
     "metadata": {},
     "output_type": "execute_result"
    }
   ],
   "source": [
    "from sympy import symbols, pi, Function\n",
    "from sympy.diffgeom.rn import R2, R2_p, R2_r\n",
    "from sympy.diffgeom import BaseVectorField\n",
    "x0, y0, r0, theta0 = symbols('x0, y0, r0, theta0')\n",
    "\n",
    "point_r = R2_r.point([x0, y0])\n",
    "\n",
    "g = Function('g')\n",
    "s_field = g(R2.x, R2.y)\n",
    "\n",
    "s_field.rcall(point_r)\n",
    "\n",
    "\n",
    "f = Function('f')\n",
    "\n",
    "dx = BaseVectorField(R2_r, 0)\n",
    "dy = BaseVectorField(R2_r, 1)\n",
    "\n",
    "dy(s_field)"
   ]
  },
  {
   "cell_type": "code",
   "execution_count": 38,
   "metadata": {
    "collapsed": false
   },
   "outputs": [
    {
     "data": {
      "image/png": "[encoded data removed]",
      "text/latex": [
       "$$0$$"
      ],
      "text/plain": [
       "0"
      ]
     },
     "execution_count": 38,
     "metadata": {},
     "output_type": "execute_result"
    }
   ],
   "source": [
    "from sympy.diffgeom.rn import R2\n",
    "from sympy.diffgeom import Commutator\n",
    "from sympy.simplify import simplify\n",
    "\n",
    "e_x, e_y, e_r = R2.e_x, R2.e_y, R2.e_r\n",
    "c_xy = Commutator(e_x, e_y)\n",
    "c_xr = Commutator(e_x, e_r)\n",
    "\n",
    "c_xy\n",
    "\n",
    "# X = R2.e_x + R2.e_y"
   ]
  },
  {
   "cell_type": "code",
   "execution_count": 43,
   "metadata": {
    "collapsed": false
   },
   "outputs": [
    {
     "ename": "ImportError",
     "evalue": "cannot import name 'R4'",
     "output_type": "error",
     "traceback": [
      "\u001b[1;31m---------------------------------------------------------------------------\u001b[0m",
      "\u001b[1;31mImportError\u001b[0m                               Traceback (most recent call last)",
      "\u001b[1;32m<ipython-input-43-ba27e6883703>\u001b[0m in \u001b[0;36m<module>\u001b[1;34m()\u001b[0m\n\u001b[0;32m      4\u001b[0m \u001b[1;32mfrom\u001b[0m \u001b[0msympy\u001b[0m\u001b[1;33m.\u001b[0m\u001b[0mdiffgeom\u001b[0m \u001b[1;32mimport\u001b[0m \u001b[0mCommutator\u001b[0m\u001b[1;33m\u001b[0m\u001b[0m\n\u001b[0;32m      5\u001b[0m \u001b[1;32mfrom\u001b[0m \u001b[0msympy\u001b[0m\u001b[1;33m.\u001b[0m\u001b[0msimplify\u001b[0m \u001b[1;32mimport\u001b[0m \u001b[0msimplify\u001b[0m\u001b[1;33m\u001b[0m\u001b[0m\n\u001b[1;32m----> 6\u001b[1;33m \u001b[1;32mfrom\u001b[0m \u001b[0msympy\u001b[0m\u001b[1;33m.\u001b[0m\u001b[0mdiffgeom\u001b[0m\u001b[1;33m.\u001b[0m\u001b[0mrn\u001b[0m \u001b[1;32mimport\u001b[0m \u001b[0mR4\u001b[0m\u001b[1;33m\u001b[0m\u001b[0m\n\u001b[0m\u001b[0;32m      7\u001b[0m \u001b[1;33m\u001b[0m\u001b[0m\n\u001b[0;32m      8\u001b[0m \u001b[1;33m\u001b[0m\u001b[0m\n",
      "\u001b[1;31mImportError\u001b[0m: cannot import name 'R4'"
     ]
    }
   ],
   "source": [
    "from sympy import symbols, sin, cos, pi\n",
    "from sympy.diffgeom import Manifold, Patch, CoordSystem\n",
    "from sympy.simplify import simplify\n",
    "from sympy.diffgeom import Commutator\n",
    "from sympy.simplify import simplify\n",
    "from sympy.diffgeom.rn import R4\n",
    "\n",
    "\n",
    "# x1, x2, x3, x4 = symbols('x_1 x_2 x_3 x_4')\n",
    "\n",
    "# m = Manifold('M', 4)\n",
    "# patch = Patch('P', m)\n",
    "\n",
    "# rect = CoordSystem('rect', patch)\n",
    "# polar = CoordSystem('polar', patch)\n",
    "\n",
    "\n",
    "e_x, e_y, e_r = R4.e_x, R4.e_y, R4.e_r\n",
    "c_xy = Commutator(e_x, e_y)\n",
    "c_xr = Commutator(e_x, e_r)\n",
    "\n",
    "c_xy"
   ]
  },
  {
   "cell_type": "code",
   "execution_count": 36,
   "metadata": {
    "collapsed": false
   },
   "outputs": [
    {
     "data": {
      "image/png": "[encoded data removed]",
      "text/latex": [
       "$$[[[0, 0], [0, 0]], [[0, 0], [0, 0]]]$$"
      ],
      "text/plain": [
       "[[[0, 0], [0, 0]], [[0, 0], [0, 0]]]"
      ]
     },
     "execution_count": 36,
     "metadata": {},
     "output_type": "execute_result"
    }
   ],
   "source": [
    "from sympy.diffgeom.rn import R2, R2_r\n",
    "from sympy.diffgeom import BaseCovarDerivativeOp\n",
    "from sympy.diffgeom import metric_to_Christoffel_2nd, TensorProduct\n",
    "TP = TensorProduct\n",
    "ch = metric_to_Christoffel_2nd(TP(R2.dx, R2.dx) + TP(R2.dy, R2.dy))\n",
    "ch\n",
    "# TP(R2.dx, R2.dy + R2.dx * 8)(R2.e_x, R2.e_y + R2.e_x)"
   ]
  },
  {
   "cell_type": "code",
   "execution_count": 59,
   "metadata": {
    "collapsed": false
   },
   "outputs": [
    {
     "data": {
      "image/png": "[encoded data removed]",
      "text/latex": [
       "$$[[[0, -1/v], [-1/v, 0]], [[1/v, 0], [0, -1/v]]]$$"
      ],
      "text/plain": [
       "[[[0, -1/v], [-1/v, 0]], [[1/v, 0], [0, -1/v]]]"
      ]
     },
     "execution_count": 59,
     "metadata": {},
     "output_type": "execute_result"
    }
   ],
   "source": [
    "# Compute Poincaire Christoffel coefficients\n",
    "\n",
    "from sympy.diffgeom import Manifold, Patch, CoordSystem, TensorProduct\n",
    "from sympy import sin,cos\n",
    "from sympy import Matrix\n",
    "\n",
    "dim = 2\n",
    "m = Manifold(\"M\",dim)\n",
    "patch = Patch(\"P\",m)\n",
    "system = CoordSystem('egg_carton', patch, [\"u\", \"v\"])\n",
    "u,v = system.coord_functions()\n",
    "du,dv = system.base_oneforms()\n",
    "metric = (1/v**2)*TensorProduct(dv, dv) +\\\n",
    "         (1/v**2)*TensorProduct(du, du) +\\\n",
    "         (0)*TensorProduct(du, dv) +\\\n",
    "         (0)*TensorProduct(dv, du)\n",
    "\n",
    "ch = metric_to_Christoffel_2nd(metric)\n",
    "ch\n",
    "# Matrix(ch)"
   ]
  }
 ],
 "metadata": {
  "anaconda-cloud": {},
  "kernelspec": {
   "display_name": "Python [Root]",
   "language": "python",
   "name": "Python [Root]"
  },
  "language_info": {
   "codemirror_mode": {
    "name": "ipython",
    "version": 3
   },
   "file_extension": ".py",
   "mimetype": "text/x-python",
   "name": "python",
   "nbconvert_exporter": "python",
   "pygments_lexer": "ipython3",
   "version": "3.5.2"
  }
 },
 "nbformat": 4,
 "nbformat_minor": 0
}
